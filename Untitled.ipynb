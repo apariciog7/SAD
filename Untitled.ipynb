{
 "cells": [
  {
   "cell_type": "markdown",
   "metadata": {},
   "source": [
    "## Olá Mundo"
   ]
  },
  {
   "cell_type": "markdown",
   "metadata": {},
   "source": []
  },
  {
   "cell_type": "code",
   "execution_count": 7,
   "metadata": {},
   "outputs": [
    {
     "name": "stdout",
     "output_type": "stream",
     "text": [
      "Adeus mundo\n",
      "Adeus mundo\n",
      "Adeus mundo\n",
      "Adeus mundo\n",
      "Adeus mundo\n",
      "Adeus mundo\n",
      "Adeus mundo\n",
      "Adeus mundo\n",
      "Adeus mundo\n",
      "Adeus mundo\n",
      "Adeus mundo\n",
      "Adeus mundo\n",
      "Adeus mundo\n",
      "Adeus mundo\n",
      "Adeus mundo\n",
      "Adeus mundo\n",
      "Adeus mundo\n",
      "Adeus mundo\n",
      "Adeus mundo\n",
      "Adeus mundo\n",
      "Adeus mundo\n",
      "Adeus mundo\n",
      "Adeus mundo\n",
      "Adeus mundo\n",
      "Adeus mundo\n",
      "Adeus mundo\n",
      "Adeus mundo\n",
      "Adeus mundo\n",
      "Adeus mundo\n",
      "Adeus mundo\n",
      "Adeus mundo\n",
      "Adeus mundo\n",
      "Adeus mundo\n",
      "Adeus mundo\n",
      "Adeus mundo\n",
      "Adeus mundo\n",
      "Adeus mundo\n",
      "Adeus mundo\n",
      "Adeus mundo\n",
      "Adeus mundo\n",
      "Adeus mundo\n",
      "Adeus mundo\n",
      "Adeus mundo\n",
      "Adeus mundo\n",
      "Adeus mundo\n",
      "Adeus mundo\n",
      "Adeus mundo\n",
      "Adeus mundo\n",
      "Adeus mundo\n",
      "Adeus mundo\n",
      "Adeus mundo\n",
      "Adeus mundo\n",
      "Adeus mundo\n",
      "Adeus mundo\n",
      "Adeus mundo\n",
      "Adeus mundo\n",
      "Adeus mundo\n",
      "Adeus mundo\n",
      "Adeus mundo\n",
      "Adeus mundo\n",
      "Adeus mundo\n",
      "Adeus mundo\n",
      "Adeus mundo\n",
      "Adeus mundo\n",
      "Adeus mundo\n",
      "Adeus mundo\n",
      "Adeus mundo\n",
      "Adeus mundo\n",
      "Adeus mundo\n",
      "Adeus mundo\n",
      "Adeus mundo\n",
      "Adeus mundo\n",
      "Adeus mundo\n",
      "Adeus mundo\n",
      "Adeus mundo\n",
      "Adeus mundo\n",
      "Adeus mundo\n",
      "Adeus mundo\n",
      "Adeus mundo\n",
      "Adeus mundo\n",
      "Adeus mundo\n",
      "Adeus mundo\n",
      "Adeus mundo\n",
      "Adeus mundo\n",
      "Adeus mundo\n",
      "Adeus mundo\n",
      "Adeus mundo\n",
      "Adeus mundo\n",
      "Adeus mundo\n",
      "Adeus mundo\n",
      "Adeus mundo\n",
      "Adeus mundo\n",
      "Adeus mundo\n",
      "Adeus mundo\n",
      "Adeus mundo\n",
      "Adeus mundo\n",
      "Adeus mundo\n",
      "Adeus mundo\n",
      "Adeus mundo\n",
      "Adeus mundo\n"
     ]
    }
   ],
   "source": [
    "for x in range (0, 100):\n",
    "    print (\"Adeus mundo\")"
   ]
  },
  {
   "cell_type": "code",
   "execution_count": null,
   "metadata": {
    "collapsed": true
   },
   "outputs": [],
   "source": []
  },
  {
   "cell_type": "code",
   "execution_count": null,
   "metadata": {
    "collapsed": true
   },
   "outputs": [],
   "source": []
  }
 ],
 "metadata": {
  "kernelspec": {
   "display_name": "Python 3",
   "language": "python",
   "name": "python3"
  },
  "language_info": {
   "codemirror_mode": {
    "name": "ipython",
    "version": 3
   },
   "file_extension": ".py",
   "mimetype": "text/x-python",
   "name": "python",
   "nbconvert_exporter": "python",
   "pygments_lexer": "ipython3",
   "version": "3.5.3"
  }
 },
 "nbformat": 4,
 "nbformat_minor": 2
}
